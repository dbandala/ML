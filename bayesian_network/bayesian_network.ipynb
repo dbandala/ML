{
 "cells": [
  {
   "cell_type": "code",
   "execution_count": 6,
   "id": "cc75b2b9-310c-49f2-8c68-c9120d9bb97a",
   "metadata": {},
   "outputs": [],
   "source": [
    "# Daniel Bandala @ aug 2022\n",
    "from pgmpy.models import BayesianNetwork\n",
    "from pgmpy.factors.discrete import TabularCPD\n",
    "from pgmpy.inference import VariableElimination\n",
    "import networkx as nx\n",
    "import pylab as plt"
   ]
  },
  {
   "cell_type": "markdown",
   "id": "63ed6343-8f27-4ec8-b379-c4c8acf3e949",
   "metadata": {},
   "source": [
    "# Bayesian networks\n",
    "A Bayesian network is a probabilistic graphical model that depicts a set of variables and their conditional dependencies using a directed acyclic graph (DAG). Bayesian networks are perfect for taking an observed event and forecasting the likelihood that any of numerous known causes played a role. A Bayesian network, for example, could reflect the probability correlations between diseases and symptoms. Given a set of symptoms, the network may be used to calculate the likelihood of the presence of certain diseases. In graph theory and computer science, a directed acyclic graph (DAG) is a directed graph with no directed cycles. In other words, it’s made up of vertices and edges (also called arcs), with each edge pointing from one vertex to the next in such a way that following those directions would never lead to a closed-loop as depicted in below picture.\n",
    "\n",
    "An acyclic directed graph is used to create a Bayesian network, which is a probability model. It’s factored by utilizing a single conditional probability distribution for each variable in the model, whose distribution is based on the parents in the graph. The simple principle of probability underpins Bayesian models. So, first, let’s define conditional probability and joint probability distribution\n",
    "\n",
    "* CONDITIONAL PROBABILITY\n",
    "\n",
    "Conditional probability is a measure of the likelihood of an event occurring provided that another event has already occurred (through assumption, supposition, statement, or evidence). If A is the event of interest and B is known or considered to have occurred, the conditional probability of A given B is generally stated as P(A|B) or, less frequently, PB(A) if A is the event of interest and B is known or thought to have occurred. This can also be expressed as a percentage of the likelihood of B crossing with A.\n",
    "$$P(A|B) = \\frac{P(A \\cap B)}{P(B)}$$\n",
    "\n",
    "* JOINT PROBABILITY\n",
    "\n",
    "The chance of two (or more) events together is known as the joint probability. The sum of the probabilities of two or more random variables is the joint probability distribution.\n",
    "\n",
    "* POSTERIOR PROBABILITY\n",
    "\n",
    "In Bayesian statistics, the conditional probability of a random occurrence or an ambiguous assertion is the conditional probability given the relevant data or background. “After taking into account the relevant evidence pertinent to the specific subject under consideration. The probability distribution of an unknown quantity interpreted as a random variable based on data from an experiment or survey is known as the posterior probability distribution."
   ]
  },
  {
   "cell_type": "code",
   "execution_count": 2,
   "id": "0106f63a-01cc-465f-b095-3c9c2e9c772b",
   "metadata": {},
   "outputs": [],
   "source": [
    "# Defining Bayesian Structure\n",
    "model = BayesianNetwork([('Guest', 'Host'), ('Price', 'Host')])"
   ]
  },
  {
   "cell_type": "code",
   "execution_count": 3,
   "id": "2d102f0d-6458-440b-a161-4267e44321bd",
   "metadata": {},
   "outputs": [],
   "source": [
    "# Defining the CPDs:\n",
    "cpd_guest = TabularCPD('Guest', 3, [[0.33], [0.33], [0.33]])\n",
    "cpd_price = TabularCPD('Price', 3, [[0.33], [0.33], [0.33]])\n",
    "cpd_host = TabularCPD('Host', 3, [[0, 0, 0, 0, 0.5, 1, 0, 1, 0.5],\n",
    "                            [0.5, 0, 1, 0, 0, 0, 1, 0, 0.5],\n",
    "                            [0.5, 1, 0, 1, 0.5, 0, 0, 0, 0]],\n",
    "                  evidence=['Guest', 'Price'], evidence_card=[3, 3])"
   ]
  },
  {
   "cell_type": "code",
   "execution_count": 4,
   "id": "4cb798f2-e77b-448c-8915-4ed3a07a4cc3",
   "metadata": {},
   "outputs": [],
   "source": [
    "# Associating the CPDs with the network structure.\n",
    "model.add_cpds(cpd_guest, cpd_price, cpd_host)"
   ]
  },
  {
   "cell_type": "markdown",
   "id": "09c35b1d-aa95-415c-8f5b-5d5e5e25783e",
   "metadata": {},
   "source": [
    "Now we will check the model structure and associated conditional probability distribution by the argument get_cpds() will return True if every this is fine else through an error msg."
   ]
  },
  {
   "cell_type": "code",
   "execution_count": 5,
   "id": "3b4e976e-b077-42ef-a0ed-040f01b302bc",
   "metadata": {},
   "outputs": [
    {
     "data": {
      "text/plain": [
       "True"
      ]
     },
     "execution_count": 5,
     "metadata": {},
     "output_type": "execute_result"
    }
   ],
   "source": [
    "model.check_model()"
   ]
  },
  {
   "cell_type": "code",
   "execution_count": 7,
   "id": "776b3e07-11c1-4852-8b5a-935f13160a64",
   "metadata": {},
   "outputs": [
    {
     "data": {
      "application/vnd.jupyter.widget-view+json": {
       "model_id": "b434cbfd5b5049a5b2c6ebd30cd4534d",
       "version_major": 2,
       "version_minor": 0
      },
      "text/plain": [
       "0it [00:00, ?it/s]"
      ]
     },
     "metadata": {},
     "output_type": "display_data"
    },
    {
     "data": {
      "application/vnd.jupyter.widget-view+json": {
       "model_id": "ebe4e43d3d4f4c83a7b99429774b1ddf",
       "version_major": 2,
       "version_minor": 0
      },
      "text/plain": [
       "0it [00:00, ?it/s]"
      ]
     },
     "metadata": {},
     "output_type": "display_data"
    },
    {
     "name": "stdout",
     "output_type": "stream",
     "text": [
      "+---------+-------------+\n",
      "| Host    |   phi(Host) |\n",
      "+=========+=============+\n",
      "| Host(0) |      0.5000 |\n",
      "+---------+-------------+\n",
      "| Host(1) |      0.5000 |\n",
      "+---------+-------------+\n",
      "| Host(2) |      0.0000 |\n",
      "+---------+-------------+\n"
     ]
    }
   ],
   "source": [
    "infer = VariableElimination(model)\n",
    "posterior_p = infer.query(['Host'], evidence={'Guest': 2, 'Price': 2})\n",
    "print(posterior_p)"
   ]
  },
  {
   "cell_type": "markdown",
   "id": "32069537-7d42-496e-a373-2a2c86826e93",
   "metadata": {},
   "source": [
    "The probability distribution of the Host is clearly satisfying the theme of the contest. In the reality also, in this situation host definitely not going to open the second door he will open either of the first two and that’s what the above simulation tells. "
   ]
  },
  {
   "cell_type": "code",
   "execution_count": null,
   "id": "1cc15d6a-4ba6-43f2-aff5-0524d13eb4d0",
   "metadata": {},
   "outputs": [],
   "source": []
  }
 ],
 "metadata": {
  "kernelspec": {
   "display_name": "Python 3 (ipykernel)",
   "language": "python",
   "name": "python3"
  },
  "language_info": {
   "codemirror_mode": {
    "name": "ipython",
    "version": 3
   },
   "file_extension": ".py",
   "mimetype": "text/x-python",
   "name": "python",
   "nbconvert_exporter": "python",
   "pygments_lexer": "ipython3",
   "version": "3.8.10"
  }
 },
 "nbformat": 4,
 "nbformat_minor": 5
}
